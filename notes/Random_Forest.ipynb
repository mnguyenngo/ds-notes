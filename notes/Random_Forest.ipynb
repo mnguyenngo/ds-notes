{
 "cells": [
  {
   "cell_type": "markdown",
   "metadata": {},
   "source": [
    "# Decision Trees & Random Forest"
   ]
  },
  {
   "cell_type": "markdown",
   "metadata": {},
   "source": [
    "## Definitions\n",
    "* bagging: (aka bootstrap aggregation)\n",
    "* boosting:\n",
    "* branches: segments of the tree that connect nodes\n",
    "* decision tree:\n",
    "    * classification tree\n",
    "    * regression tree\n",
    "* ensemble method: (from Galvanize, Jack Bennetto) many weak learners combined to form a strong learner\n",
    "* greedy: describes the approach for *recursive binary splitting*, where only the best split is considered at each step instead of considering the results of future splits\n",
    "    * the best split is the split that would result in the highest reduction of the RSS (residual sum of squares)\n",
    "* nodes:\n",
    "    * internal nodes: points along a tree where splits occur\n",
    "    * leaf nodes, leaves: see *terminal nodes*\n",
    "    * terminal nodes: end points of a decision tree where the resulting regression value or classification is determined \n",
    "* random forest:\n",
    "* tree pruning: process of selecting a subtree from a very large and overfit tree with the purpose of obtaining a more general tree that would perform better with test data"
   ]
  },
  {
   "cell_type": "markdown",
   "metadata": {},
   "source": [
    "## Equations"
   ]
  },
  {
   "cell_type": "markdown",
   "metadata": {},
   "source": [
    "### Loss Function: Basic Decision Tree\n",
    "Referred to as residual sum of squares\n",
    "$$ \\sum_{j=1}^{J} \\sum_{i \\in R_j} {(y_i-\\hat{y}_{R_j})^2} $$ \n",
    "\n",
    "* $J$ is the total amount of rectangles\n",
    "* $R_j$ is an individual rectangle\n",
    "* $\\hat{y}_{R_j}$ is the mean response for training observations (y) in $R_j$"
   ]
  },
  {
   "cell_type": "markdown",
   "metadata": {},
   "source": [
    "### Loss Function: Decision Tree with Pruning\n",
    "$$ \\sum_{m=1}^{|T|} \\sum_{i \\in R_m} {(y_i-\\hat{y}_{R_j})^2} + \\alpha |T|$$ \n",
    "\n",
    "* $|T|$ is the total number of terminal nodes\n",
    "* $R_m$ is the rectangle corresponding with the $m$th terminal node\n",
    "* $\\hat{y}_{R_j}$ is the mean response for training observations (y) in $R_j$"
   ]
  },
  {
   "cell_type": "markdown",
   "metadata": {},
   "source": [
    "## References\n",
    "1. James, G., Witten, D., Hastie, T., Tibshirani, R. 2013. *An Introduction to Statistical Learning, Seventh Edition*. New York, NY: Springer.\n"
   ]
  }
 ],
 "metadata": {
  "kernelspec": {
   "display_name": "Python 3",
   "language": "python",
   "name": "python3"
  },
  "language_info": {
   "codemirror_mode": {
    "name": "ipython",
    "version": 3
   },
   "file_extension": ".py",
   "mimetype": "text/x-python",
   "name": "python",
   "nbconvert_exporter": "python",
   "pygments_lexer": "ipython3",
   "version": "3.6.3"
  }
 },
 "nbformat": 4,
 "nbformat_minor": 2
}
