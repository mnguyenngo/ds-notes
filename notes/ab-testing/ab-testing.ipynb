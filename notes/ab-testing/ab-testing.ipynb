{
 "cells": [
  {
   "cell_type": "markdown",
   "metadata": {},
   "source": [
    "# Split Testing\n",
    "Practical Overview of A/B Testing"
   ]
  },
  {
   "cell_type": "code",
   "execution_count": 1,
   "metadata": {},
   "outputs": [],
   "source": [
    "# import module"
   ]
  },
  {
   "cell_type": "code",
   "execution_count": 2,
   "metadata": {},
   "outputs": [],
   "source": [
    "# preview data"
   ]
  },
  {
   "cell_type": "code",
   "execution_count": 3,
   "metadata": {},
   "outputs": [],
   "source": [
    "# equations in LaTeX"
   ]
  },
  {
   "cell_type": "code",
   "execution_count": 4,
   "metadata": {},
   "outputs": [],
   "source": [
    "# conclusion"
   ]
  },
  {
   "cell_type": "markdown",
   "metadata": {},
   "source": [
    "## Types of Split Testing\n",
    "* A/B Testing\n",
    "* Multivariate Testing\n",
    "* Multi-Armed Bandit"
   ]
  },
  {
   "cell_type": "markdown",
   "metadata": {},
   "source": [
    "## General Procedure\n",
    "\n",
    "### What can be tested? See an aggregated list below:\n",
    "* Headlines\n",
    "* Sub headlines\n",
    "* Paragraph Text\n",
    "* Testimonials\n",
    "* Call to Action text\n",
    "* Call to Action Button\n",
    "* Links\n",
    "* Images\n",
    "* Content near the fold\n",
    "* Social proof\n",
    "* Media mentions\n",
    "* Awards and badges\n",
    "* Traffic\n",
    "* App installs\n",
    "* Lead generation\n",
    "* Conversions\n",
    "* Video views\n",
    "* Catalog sales\n",
    "* Reach\n",
    "* Engagement\n",
    "\n",
    "Please see the references "
   ]
  },
  {
   "cell_type": "markdown",
   "metadata": {},
   "source": [
    "## Definitions\n",
    "\n",
    "* confidence interval:\n",
    "    * a type of interval estimate, computed from the statistics of the observed data, that might contain the true value of an unknown population parameter[Wikipedia](https://en.wikipedia.org/wiki/Confidence_interval)\n",
    "    * the interval has an associated confidence level that, loosely speaking, quantifies the level of confidence that the parameter lies in the interval\n",
    "    * it is not a definitive range of plausible values for the sample parameter, though it may be understood as an estimate of plausible values for the population parameter\n",
    "    * a particular confidence interval of 95% calculated from an experiment does not mean that there is a 95% probability of a sample parameter from a repeat of the experiment falling within this interval\n",
    "* effect size: \n",
    "* false positive: in the case for split testing, false positive results suggest that a variant will improve a metric, when actually, the metric may be unchanged or may be affected by other factors; larger sample sizes will reduce the risk of false positives \n",
    "* margin of error\n",
    "* sample size, minimum\n",
    "* standard error of the mean: the standard deviation of the sampling mean\n",
    "* statistical power: \n",
    "    * probability of finding an effect if it is real [4]\n",
    "    * probability of rejecting the null hypothesis when the alternative hypothesis is true [Wikipedia](https://en.wikipedia.org/wiki/Power_(statistics))\n",
    "* statistical significance: \n",
    "* t-test, Student\n",
    "* t-test, Welch's\n",
    "* \n",
    "* type I error:\n",
    "    * false positive\n",
    "* type II error: \n",
    "    * false negative\n",
    "    * failing to reject the null hypothesis when the null hypothesis is false\n",
    "    * probability of type II error decreases as statistical power increases\n",
    "* variance ($\\sigma^2$):\n",
    "    * standard deviation squared\n",
    "    * for a binomial distribution: $np(1-p)$\n"
   ]
  },
  {
   "cell_type": "markdown",
   "metadata": {},
   "source": [
    "## Rule of Thumb for Estimating Minimum Sample Size [8]\n",
    "\n",
    "For a power of 80% (typical):\n",
    "\n",
    "$$ n = 16 \\frac{\\sigma^2}{\\delta^2} $$\n",
    "\n",
    "where:\n",
    "* $n$ is the minimum sample size\n",
    "* $\\sigma^2$ is the variance\n",
    "* $\\delta$ is the minimum effect size\n",
    "* the constant 16 corresponds to a statistical power of 80%; use 26 for a statistical power of 95%\n",
    "\n",
    "For a binomial proportion:\n",
    "$$ \\sigma^2 = np(1-p) $$"
   ]
  },
  {
   "cell_type": "markdown",
   "metadata": {},
   "source": [
    "## Power Formula\n",
    "\n",
    "$$ Z_{power} = \\frac{difference}{standarderror(difference)} - Z_{\\alpha/2} $$"
   ]
  },
  {
   "cell_type": "markdown",
   "metadata": {},
   "source": [
    "## Equation for Standard Error of the Mean\n",
    "\n",
    "$$ \\sigma_{\\bar{x}} = \\frac{\\sigma}{\\sqrt{n}} $$"
   ]
  },
  {
   "cell_type": "markdown",
   "metadata": {},
   "source": [
    "## Equation for Minimum Sample Size\n"
   ]
  },
  {
   "cell_type": "markdown",
   "metadata": {},
   "source": [
    "## Equation to Calculate the Normal Confidence Interval\n",
    "\n",
    "For a known standard deviation:\n",
    "\n",
    "\n",
    "For an unknown standard deviation:\n",
    "\n"
   ]
  },
  {
   "cell_type": "markdown",
   "metadata": {},
   "source": [
    "## Equation to Calculate the Binomial Confidence Interval\n"
   ]
  },
  {
   "cell_type": "markdown",
   "metadata": {},
   "source": [
    "## References\n",
    "\n",
    "1. https://support.google.com/analytics/answer/2844870?hl=en\n",
    "2. https://www.facebook.com/business/help/1738164643098669?helpref=related\n",
    "3. https://www.exp-platform.com/Documents/controlledExperimentDMKD.pdf\n",
    "4. https://web.stanford.edu/~kcobb/hrp261/lecture8.ppt\n",
    "3. https://vwo.com/ab-testing/\n",
    "4. https://conversionsciences.com/blog/ab-testing-guide/\n",
    "5. https://conversionxl-com.cdn.ampproject.org/v/s/conversionxl.com/blog/ab-testing-guide/\n",
    "6. http://blog.analytics-toolkit.com/2017/importance-statistical-power-online-ab-tests/\n",
    "7. https://medium.com/airbnb-engineering/experiments-at-airbnb-e2db3abf39e7\n",
    "8. http://www.evanmiller.org/how-not-to-run-an-ab-test.html\n",
    "9. http://www.evanmiller.org/ab-testing/sample-size.html"
   ]
  },
  {
   "cell_type": "code",
   "execution_count": null,
   "metadata": {},
   "outputs": [],
   "source": []
  }
 ],
 "metadata": {
  "kernelspec": {
   "display_name": "Python 3",
   "language": "python",
   "name": "python3"
  },
  "language_info": {
   "codemirror_mode": {
    "name": "ipython",
    "version": 3
   },
   "file_extension": ".py",
   "mimetype": "text/x-python",
   "name": "python",
   "nbconvert_exporter": "python",
   "pygments_lexer": "ipython3",
   "version": "3.6.3"
  }
 },
 "nbformat": 4,
 "nbformat_minor": 2
}
