{
 "cells": [
  {
   "cell_type": "markdown",
   "metadata": {},
   "source": [
    "# Split Testing\n",
    "Practical Overview of A/B Testing"
   ]
  },
  {
   "cell_type": "code",
   "execution_count": 2,
   "metadata": {},
   "outputs": [],
   "source": [
    "import scipy.stats as scs\n",
    "import numpy as np"
   ]
  },
  {
   "cell_type": "code",
   "execution_count": 2,
   "metadata": {},
   "outputs": [],
   "source": [
    "# preview data"
   ]
  },
  {
   "cell_type": "code",
   "execution_count": 3,
   "metadata": {},
   "outputs": [],
   "source": [
    "# equations in LaTeX"
   ]
  },
  {
   "cell_type": "code",
   "execution_count": 4,
   "metadata": {},
   "outputs": [],
   "source": [
    "# conclusion"
   ]
  },
  {
   "cell_type": "markdown",
   "metadata": {},
   "source": [
    "## Types of Split Testing\n",
    "* A/B Testing\n",
    "* Multivariate Testing\n",
    "* Multi-Armed Bandit"
   ]
  },
  {
   "cell_type": "markdown",
   "metadata": {},
   "source": [
    "## General Procedure\n",
    "\n",
    "### What can be tested? See an aggregated list below:\n",
    "* Headlines\n",
    "* Sub headlines\n",
    "* Paragraph Text\n",
    "* Testimonials\n",
    "* Call to Action text\n",
    "* Call to Action Button\n",
    "* Links\n",
    "* Images\n",
    "* Content near the fold\n",
    "* Social proof\n",
    "* Media mentions\n",
    "* Awards and badges\n",
    "* Traffic\n",
    "* App installs\n",
    "* Lead generation\n",
    "* Conversions\n",
    "* Video views\n",
    "* Catalog sales\n",
    "* Reach\n",
    "* Engagement\n",
    "\n",
    "Please see the references "
   ]
  },
  {
   "cell_type": "markdown",
   "metadata": {},
   "source": [
    "## Definitions\n",
    "\n",
    "* confidence interval:\n",
    "    * a type of interval estimate, computed from the statistics of the observed data, that might contain the true value of an unknown population parameter[Wikipedia](https://en.wikipedia.org/wiki/Confidence_interval)\n",
    "    * the interval has an associated confidence level that, loosely speaking, quantifies the level of confidence that the parameter lies in the interval\n",
    "    * it is not a definitive range of plausible values for the sample parameter, though it may be understood as an estimate of plausible values for the population parameter\n",
    "    * a particular confidence interval of 95% calculated from an experiment does not mean that there is a 95% probability of a sample parameter from a repeat of the experiment falling within this interval\n",
    "* critical value:  [StatisticsHowTo](http://www.statisticshowto.com/probability-and-statistics/find-critical-values/)\n",
    "* effect size: \n",
    "* false positive: in the case for split testing, false positive results suggest that a variant will improve a metric, when actually, the metric may be unchanged or may be affected by other factors; larger sample sizes will reduce the risk of false positives \n",
    "* margin of error\n",
    "* sample size, minimum\n",
    "* significance level ($\\alpha$): \n",
    "    * the probability of making the wrong decision when the null hypothesis is true [StatisticsHowTo](http://www.statisticshowto.com/what-is-an-alpha-level/)\n",
    "    * typically experiments are run with a significance level of 0.05 but ultimately the significance level will depend on the experiment\n",
    "* standard error of the mean: the standard deviation of the sampling mean\n",
    "* statistical power: \n",
    "    * probability of finding an effect if it is real [4]\n",
    "    * probability of rejecting the null hypothesis when the alternative hypothesis is true [Wikipedia](https://en.wikipedia.org/wiki/Power_(statistics))\n",
    "* statistical significance: \n",
    "    * statistical significance occurs when the resulting p-value from an experiment is less than the level of significance, $\\alpha$\n",
    "    * if there is statistical significance, the null hypothesis can be rejected\n",
    "* t-distribution or Student's t-distribution: \n",
    "    * continuous probability distribution that arises when estimating the mean of a normally distributed population in situations where the sample size is small and population standard deviation is unknown [Wikipedia](https://en.wikipedia.org/wiki/Student%27s_t-distribution)\n",
    "    * can be used to approximate the confidence interval of the true mean of a normal distribution\n",
    "* t-test, Student: [Wikipedia](https://en.wikipedia.org/wiki/Student%27s_t-test)\n",
    "    * standard Student's t-test for two independent samples with equal sample sizes and equal variance\n",
    "    \n",
    "* t-test, Welch's: [Wikipedia](https://en.wikipedia.org/wiki/Welch%27s_t-test)\n",
    "    * Welch's t-test for two independent samples with equal sample sizes and equal variance \n",
    "* type I error:\n",
    "    * false positive\n",
    "* type II error: \n",
    "    * false negative\n",
    "    * failing to reject the null hypothesis when the null hypothesis is false\n",
    "    * probability of type II error decreases as statistical power increases\n",
    "* variance ($\\sigma^2$):\n",
    "    * standard deviation squared\n",
    "    * for a binomial distribution: $np(1-p)$\n",
    "* z-score: a z-score is the distance measured in number of population standard deviations from a data point to the population mean [StatisticsHowTo](http://www.statisticshowto.com/probability-and-statistics/z-score/)\n"
   ]
  },
  {
   "cell_type": "markdown",
   "metadata": {},
   "source": [
    "## Rule of Thumb for Estimating Minimum Sample Size [8]\n",
    "\n",
    "For a power of 80% (typical):\n",
    "\n",
    "$$ n = 16 \\frac{\\sigma^2}{\\delta^2} $$\n",
    "\n",
    "where:\n",
    "* $n$ is the minimum sample size\n",
    "* $\\sigma^2$ is the variance\n",
    "* $\\delta$ is the minimum effect size\n",
    "* the constant 16 corresponds to a statistical power of 80%; use 26 for a statistical power of 95%\n",
    "\n",
    "For a binomial proportion:\n",
    "$$ \\sigma^2 = np(1-p) $$"
   ]
  },
  {
   "cell_type": "markdown",
   "metadata": {},
   "source": [
    "## Power Formula\n",
    "\n",
    "$$ Z_{power} = \\frac{difference}{standarderror(difference)} - Z_{\\alpha/2} $$"
   ]
  },
  {
   "cell_type": "markdown",
   "metadata": {},
   "source": [
    "## Equation for Standard Error of the Mean\n",
    "\n",
    "$$ \\sigma_{\\bar{x}} = \\frac{\\sigma}{\\sqrt{n}} $$"
   ]
  },
  {
   "cell_type": "markdown",
   "metadata": {},
   "source": [
    "## Equation for Minimum Sample Size\n",
    "\n"
   ]
  },
  {
   "cell_type": "markdown",
   "metadata": {},
   "source": [
    "## Given significance level, find z-score and critical value\n",
    "How: Use [z-table](http://www.z-table.com/) or use function in the cell below\n",
    "\n",
    "#### For one-tailed test:\n",
    "1. Find the central area under the curve after subtracting the significance level from 1. \n",
    "2. Find the x-value that returns the area equivalent to the central area computed in the first step.\n",
    "\n",
    "#### For two-tailed test (typical):\n",
    "1. Find the central area under the curve after subtracting half of the significance level from 1. \n",
    "2. Find the x-value that returns the area equivalent to the central area computed in the first step.\n",
    "\n",
    "#### Common z-scores for two-tailed tests\n",
    "Confidence Interval | Significance Level | z-score\n",
    "--- | --- | ---\n",
    "80% | 0.20 | 1.28\n",
    "85% | 0.15 | 1.44\n",
    "90% | 0.10 | 1.65\n",
    "95% | 0.05 | 1.96\n",
    "99% | 0.01 | 2.58\n",
    "\n",
    "The z score of a raw score, x:\n",
    "$$ z = \\frac{x - \\mu}{\\sigma} $$\n",
    "\n",
    "### To find the critical value\n",
    "Find the sample mean and add/subtract the standard deviation multiplied by the z-score\n",
    "$$ cv = \\bar{x} \\pm z \\times s_x $$ \n",
    "\n",
    "**When comparing two independent samples, the statistical power is the area of the variant's distribution to the right (if the effect is greater) of the critical value.**"
   ]
  },
  {
   "cell_type": "code",
   "execution_count": 9,
   "metadata": {},
   "outputs": [],
   "source": [
    "def get_zscore(significance=0.05, two_tailed=True):\n",
    "    \"\"\"Returns the appropriate z-score given the level of significance\n",
    "    Arguments:\n",
    "        significance (float): typically 0.05 for 5% significance level but ultimately depends on the experiment\n",
    "        two_tailed (boolean): False if test is one-tailed\n",
    "    Returns:\n",
    "        z_score (float)\n",
    "    \"\"\"\n",
    "    norm_dist = scs.norm()\n",
    "    if two_tailed:\n",
    "        central_area = 1 - significance/2\n",
    "    else:\n",
    "        central_area = 1 - significance\n",
    "    return norm_dist.ppf(central_area)"
   ]
  },
  {
   "cell_type": "code",
   "execution_count": 16,
   "metadata": {},
   "outputs": [
    {
     "data": {
      "text/plain": [
       "2.5758293035489004"
      ]
     },
     "execution_count": 16,
     "metadata": {},
     "output_type": "execute_result"
    }
   ],
   "source": [
    "get_zscore(significance=0.01, two_tailed=True)"
   ]
  },
  {
   "cell_type": "markdown",
   "metadata": {},
   "source": [
    "## Given level of statistical power, find z_power\n",
    "\n"
   ]
  },
  {
   "cell_type": "markdown",
   "metadata": {},
   "source": [
    "## Equation to Calculate the Normal Confidence Interval for the Population Mean\n",
    "\n",
    "For a known standard deviation:\n",
    "$$ \\left(\\bar{x} + z^{*}\\frac{\\sigma}{n}, \\: \\bar{x} -z^{*}\\frac{\\sigma}{n}\\right) $$\n",
    "\n",
    "For an unknown standard deviation:\n",
    "$$ \\left(\\bar{x} + t^{*}\\frac{s}{n}, \\: \\bar{x} -t^{*}\\frac{s}{n}\\right) $$\n",
    "\n"
   ]
  },
  {
   "cell_type": "markdown",
   "metadata": {},
   "source": [
    "## Equation to Calculate the Binomial Confidence Interval\n"
   ]
  },
  {
   "cell_type": "markdown",
   "metadata": {},
   "source": [
    "## References\n",
    "\n",
    "1. https://support.google.com/analytics/answer/2844870?hl=en\n",
    "2. https://www.facebook.com/business/help/1738164643098669?helpref=related\n",
    "3. https://www.exp-platform.com/Documents/controlledExperimentDMKD.pdf\n",
    "4. https://web.stanford.edu/~kcobb/hrp261/lecture8.ppt\n",
    "3. https://vwo.com/ab-testing/\n",
    "4. https://conversionsciences.com/blog/ab-testing-guide/\n",
    "5. https://conversionxl-com.cdn.ampproject.org/v/s/conversionxl.com/blog/ab-testing-guide/\n",
    "6. http://blog.analytics-toolkit.com/2017/importance-statistical-power-online-ab-tests/\n",
    "7. https://medium.com/airbnb-engineering/experiments-at-airbnb-e2db3abf39e7\n",
    "8. http://www.evanmiller.org/how-not-to-run-an-ab-test.html\n",
    "9. http://www.evanmiller.org/ab-testing/sample-size.html"
   ]
  },
  {
   "cell_type": "code",
   "execution_count": null,
   "metadata": {},
   "outputs": [],
   "source": []
  }
 ],
 "metadata": {
  "kernelspec": {
   "display_name": "Python 3",
   "language": "python",
   "name": "python3"
  },
  "language_info": {
   "codemirror_mode": {
    "name": "ipython",
    "version": 3
   },
   "file_extension": ".py",
   "mimetype": "text/x-python",
   "name": "python",
   "nbconvert_exporter": "python",
   "pygments_lexer": "ipython3",
   "version": "3.6.3"
  }
 },
 "nbformat": 4,
 "nbformat_minor": 2
}
