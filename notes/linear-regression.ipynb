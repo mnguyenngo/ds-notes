{
 "cells": [
  {
   "cell_type": "markdown",
   "metadata": {},
   "source": [
    "# On Linear Regression"
   ]
  },
  {
   "cell_type": "code",
   "execution_count": null,
   "metadata": {},
   "outputs": [],
   "source": []
  },
  {
   "cell_type": "code",
   "execution_count": 1,
   "metadata": {},
   "outputs": [],
   "source": [
    "# import cell\n",
    "\n"
   ]
  },
  {
   "cell_type": "code",
   "execution_count": null,
   "metadata": {},
   "outputs": [],
   "source": []
  },
  {
   "cell_type": "markdown",
   "metadata": {},
   "source": [
    "## Simple Linear Regression Mathematical Definition\n",
    "$$ Y = \\hat{\\beta}_0 + \\hat{\\beta}_1 X + \\epsilon $$\n",
    "\n",
    "* $X$ : predictor variable\n",
    "* $Y$ : prediction target\n",
    "* $\\beta_0$ : y-intercept of regression line\n",
    "* $\\beta_1$ : slope of regression line\n",
    "* $\\epsilon$ : mean zero random error\n",
    "\n",
    "Equation and definitions per [1]"
   ]
  },
  {
   "cell_type": "markdown",
   "metadata": {},
   "source": [
    "## Multiple Linear Regression\n",
    "\n",
    "$$\\hat y = \\hat\\beta_0 + \\hat\\beta_1 X_1 + \\hat\\beta_2 X_2 + ... + \\hat\\beta_i X_i $$\n"
   ]
  },
  {
   "cell_type": "markdown",
   "metadata": {},
   "source": [
    "##"
   ]
  },
  {
   "cell_type": "markdown",
   "metadata": {},
   "source": [
    "## Exploratory Data Analysis (EDA)"
   ]
  },
  {
   "cell_type": "code",
   "execution_count": null,
   "metadata": {},
   "outputs": [],
   "source": []
  },
  {
   "cell_type": "code",
   "execution_count": null,
   "metadata": {},
   "outputs": [],
   "source": []
  },
  {
   "cell_type": "code",
   "execution_count": null,
   "metadata": {},
   "outputs": [],
   "source": []
  },
  {
   "cell_type": "markdown",
   "metadata": {},
   "source": [
    "### Scatterplots"
   ]
  },
  {
   "cell_type": "markdown",
   "metadata": {},
   "source": [
    "### Variance and Standard Deviation\n",
    "#### Population Variance [2]\n",
    "$$ \\sigma^2 = \\frac{1}{N} \\sum_{i=1}^{N}{(x_i-\\mu)^2} $$ \n",
    "\n",
    "#### Sample Variance (Unbiased with Bessel's Correction) [3]\n",
    "$$ \\sigma^2 = \\frac{1}{n-1} \\sum_{i=1}^{n}{(y_i-\\bar{y})^2} $$ "
   ]
  },
  {
   "cell_type": "markdown",
   "metadata": {},
   "source": [
    "## Loss Function"
   ]
  },
  {
   "cell_type": "markdown",
   "metadata": {},
   "source": [
    "## Assessing the Model"
   ]
  },
  {
   "cell_type": "markdown",
   "metadata": {},
   "source": [
    "### Residual Sum of Squares (RSS)\n",
    "$$ \\sum_{i=1}^{n}{y_i-\\hat{y}_i} $$\n",
    "\n",
    "* $n$ : sample size\n",
    "* $y_i$ : actual value\n",
    "* $\\hat{y}_i$ : predicted value"
   ]
  },
  {
   "cell_type": "code",
   "execution_count": null,
   "metadata": {},
   "outputs": [],
   "source": []
  },
  {
   "cell_type": "markdown",
   "metadata": {},
   "source": [
    "### Mean Squared Error (MSE)\n",
    "$$ \\frac{1}{n-k} \\sum_{i=1}^{n}{y_i-\\hat{y}_i} $$\n",
    "\n",
    "* $n$ : sample size\n",
    "* $k$ : the number of degrees of freedom including the y-intercept\n",
    "* $y_i$ : actual value\n",
    "* $\\hat{y}_i$ : predicted value"
   ]
  },
  {
   "cell_type": "code",
   "execution_count": null,
   "metadata": {},
   "outputs": [],
   "source": [
    "from sklearn.metrics import mean_squared_error\n"
   ]
  },
  {
   "cell_type": "markdown",
   "metadata": {},
   "source": [
    "### Residual Standard Error (RSE)\n",
    "$$ \\sum_{i=1}^{n}{y_i-\\hat{y}_i} $$"
   ]
  },
  {
   "cell_type": "code",
   "execution_count": null,
   "metadata": {},
   "outputs": [],
   "source": []
  },
  {
   "cell_type": "code",
   "execution_count": null,
   "metadata": {},
   "outputs": [],
   "source": []
  },
  {
   "cell_type": "markdown",
   "metadata": {},
   "source": [
    "## References\n",
    "1. James, G., Witten, D., Hastie, T., Tibshirani, R. 2013. *An Introduction to Statistical Learning, Seventh Edition*. New York, NY: Springer.\n",
    "2. [Wikipedia -- Variance](https://en.wikipedia.org/wiki/Variance)\n",
    "3. [Wikipedia -- Bessel's Correction](https://en.wikipedia.org/wiki/Bessel%27s_correction)\n",
    "\n",
    "## Documentation\n",
    "1. [scikit-learn -- MSE](http://scikit-learn.org/stable/modules/generated/sklearn.metrics.mean_squared_error.html)"
   ]
  },
  {
   "cell_type": "markdown",
   "metadata": {},
   "source": [
    "$$\\sum_{n=1}^{\\infty} 2^{-n} = 1$$"
   ]
  },
  {
   "cell_type": "code",
   "execution_count": null,
   "metadata": {},
   "outputs": [],
   "source": []
  }
 ],
 "metadata": {
  "kernelspec": {
   "display_name": "Python 3",
   "language": "python",
   "name": "python3"
  },
  "language_info": {
   "codemirror_mode": {
    "name": "ipython",
    "version": 3
   },
   "file_extension": ".py",
   "mimetype": "text/x-python",
   "name": "python",
   "nbconvert_exporter": "python",
   "pygments_lexer": "ipython3",
   "version": "3.6.3"
  }
 },
 "nbformat": 4,
 "nbformat_minor": 2
}
